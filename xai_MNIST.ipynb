{
 "cells": [
  {
   "cell_type": "code",
   "execution_count": 1,
   "metadata": {
    "ExecuteTime": {
     "end_time": "2024-02-26T16:04:05.106089Z",
     "start_time": "2024-02-26T16:04:03.425335Z"
    }
   },
   "outputs": [],
   "source": [
    "#custom neural networkx models\n",
    "import neural_networks as ann\n",
    "#other imports\n",
    "import matplotlib.pyplot as plt\n",
    "import numpy as np\n",
    "import torch.nn as nn\n",
    "import torch\n",
    "from torch.utils.data import DataLoader, Dataset\n",
    "from torchvision.datasets import MNIST\n",
    "from torchvision.transforms import Compose, ToTensor, Normalize"
   ]
  },
  {
   "cell_type": "markdown",
   "metadata": {},
   "source": [
    "# Load model and autoencoder\n",
    "\n",
    "That were trained on different script"
   ]
  },
  {
   "cell_type": "code",
   "execution_count": 2,
   "metadata": {
    "ExecuteTime": {
     "end_time": "2024-02-26T16:04:10.037324Z",
     "start_time": "2024-02-26T16:04:10.005493Z"
    }
   },
   "outputs": [
    {
     "data": {
      "text/plain": "Sequential(\n  (0): ConvNet(\n    (conv_layers): Sequential(\n      (0): Conv2d(1, 10, kernel_size=(5, 5), stride=(1, 1))\n      (1): MaxPool2d(kernel_size=2, stride=2, padding=0, dilation=1, ceil_mode=False)\n      (2): ReLU()\n      (3): Conv2d(10, 20, kernel_size=(5, 5), stride=(1, 1))\n      (4): Dropout(p=0.5, inplace=False)\n      (5): MaxPool2d(kernel_size=2, stride=2, padding=0, dilation=1, ceil_mode=False)\n      (6): ReLU()\n    )\n    (fc_layers): Sequential(\n      (0): Linear(in_features=320, out_features=50, bias=True)\n      (1): ReLU()\n      (2): Dropout(p=0.5, inplace=False)\n      (3): Linear(in_features=50, out_features=10, bias=True)\n    )\n  )\n  (1): Extra_layer(\n    (bin): Linear(in_features=10, out_features=2, bias=True)\n  )\n)"
     },
     "execution_count": 2,
     "metadata": {},
     "output_type": "execute_result"
    }
   ],
   "source": [
    "#main model\n",
    "conv_net = ann.ConvNet()\n",
    "extra_layer = ann.Extra_layer()\n",
    "model = nn.Sequential(conv_net, extra_layer)\n",
    "model.load_state_dict(torch.load('model_checkpoint.pth'))\n",
    "model.eval()\n",
    "\n",
    "#autoencoder\n",
    "autoencoder = ann.Autoencoder()\n",
    "autoencoder.load_state_dict(torch.load('autoencoder_checkpoint.pth'))\n",
    "model.eval()"
   ]
  },
  {
   "cell_type": "markdown",
   "metadata": {},
   "source": [
    "# Load data"
   ]
  },
  {
   "cell_type": "code",
   "execution_count": 3,
   "metadata": {
    "ExecuteTime": {
     "end_time": "2024-02-26T16:04:16.946313Z",
     "start_time": "2024-02-26T16:04:13.672816Z"
    }
   },
   "outputs": [
    {
     "name": "stdout",
     "output_type": "stream",
     "text": [
      "Downloading http://yann.lecun.com/exdb/mnist/train-images-idx3-ubyte.gz\n",
      "Downloading http://yann.lecun.com/exdb/mnist/train-images-idx3-ubyte.gz to mnist_data/MNIST/raw/train-images-idx3-ubyte.gz\n"
     ]
    },
    {
     "data": {
      "text/plain": "  0%|          | 0/9912422 [00:00<?, ?it/s]",
      "application/vnd.jupyter.widget-view+json": {
       "version_major": 2,
       "version_minor": 0,
       "model_id": "ab8a49caa17f44ac9d0246d8ee63ceda"
      }
     },
     "metadata": {},
     "output_type": "display_data"
    },
    {
     "name": "stdout",
     "output_type": "stream",
     "text": [
      "Extracting mnist_data/MNIST/raw/train-images-idx3-ubyte.gz to mnist_data/MNIST/raw\n",
      "\n",
      "Downloading http://yann.lecun.com/exdb/mnist/train-labels-idx1-ubyte.gz\n",
      "Downloading http://yann.lecun.com/exdb/mnist/train-labels-idx1-ubyte.gz to mnist_data/MNIST/raw/train-labels-idx1-ubyte.gz\n"
     ]
    },
    {
     "data": {
      "text/plain": "  0%|          | 0/28881 [00:00<?, ?it/s]",
      "application/vnd.jupyter.widget-view+json": {
       "version_major": 2,
       "version_minor": 0,
       "model_id": "10ae7f4f64eb482695f49199bf9e30ec"
      }
     },
     "metadata": {},
     "output_type": "display_data"
    },
    {
     "name": "stdout",
     "output_type": "stream",
     "text": [
      "Extracting mnist_data/MNIST/raw/train-labels-idx1-ubyte.gz to mnist_data/MNIST/raw\n",
      "\n",
      "Downloading http://yann.lecun.com/exdb/mnist/t10k-images-idx3-ubyte.gz\n",
      "Downloading http://yann.lecun.com/exdb/mnist/t10k-images-idx3-ubyte.gz to mnist_data/MNIST/raw/t10k-images-idx3-ubyte.gz\n"
     ]
    },
    {
     "data": {
      "text/plain": "  0%|          | 0/1648877 [00:00<?, ?it/s]",
      "application/vnd.jupyter.widget-view+json": {
       "version_major": 2,
       "version_minor": 0,
       "model_id": "37d72ff05db74fc88d052a04b6d7c7e5"
      }
     },
     "metadata": {},
     "output_type": "display_data"
    },
    {
     "name": "stdout",
     "output_type": "stream",
     "text": [
      "Extracting mnist_data/MNIST/raw/t10k-images-idx3-ubyte.gz to mnist_data/MNIST/raw\n",
      "\n",
      "Downloading http://yann.lecun.com/exdb/mnist/t10k-labels-idx1-ubyte.gz\n",
      "Downloading http://yann.lecun.com/exdb/mnist/t10k-labels-idx1-ubyte.gz to mnist_data/MNIST/raw/t10k-labels-idx1-ubyte.gz\n"
     ]
    },
    {
     "data": {
      "text/plain": "  0%|          | 0/4542 [00:00<?, ?it/s]",
      "application/vnd.jupyter.widget-view+json": {
       "version_major": 2,
       "version_minor": 0,
       "model_id": "d8f9f7bf8f9b48fc8e77ad8d4a6856da"
      }
     },
     "metadata": {},
     "output_type": "display_data"
    },
    {
     "name": "stdout",
     "output_type": "stream",
     "text": [
      "Extracting mnist_data/MNIST/raw/t10k-labels-idx1-ubyte.gz to mnist_data/MNIST/raw\n"
     ]
    }
   ],
   "source": [
    "# Specify the target digit for binary classification\n",
    "batch_size_train = 128\n",
    "batch_size_test = 1000\n",
    "target_digit = 9\n",
    "transform = Compose([ToTensor(), Normalize((0.1307,), (0.3081,))])\n",
    "# Create binary classification train and test loaders\n",
    "binary_train_loader = DataLoader(ann.BinaryMNIST('mnist_data/', train=True, transform=transform, target_digit=target_digit),\n",
    "                          batch_size=batch_size_train, shuffle=True)\n",
    "binary_test_loader = DataLoader(ann.BinaryMNIST('mnist_data/', train=False, transform=transform, target_digit=target_digit),\n",
    "                         batch_size=batch_size_test, shuffle=True)"
   ]
  },
  {
   "cell_type": "code",
   "outputs": [],
   "source": [
    "import sys\n",
    "sys.path.append('/Users/cgiovannoni/Projects/xai_croco/XAI_course_2024-main')"
   ],
   "metadata": {
    "collapsed": false,
    "ExecuteTime": {
     "end_time": "2024-02-26T16:13:52.854830Z",
     "start_time": "2024-02-26T16:13:52.848913Z"
    }
   },
   "execution_count": 13
  },
  {
   "cell_type": "code",
   "outputs": [
    {
     "name": "stdout",
     "output_type": "stream",
     "text": [
      "[Errno 2] No such file or directory: 'XAI_course_2024-main'\n",
      "/Users/cgiovannoni/Projects/xai_croco/XAI_course_2024-main\n"
     ]
    }
   ],
   "source": [
    "%cd XAI_course_2024-main"
   ],
   "metadata": {
    "collapsed": false,
    "ExecuteTime": {
     "end_time": "2024-02-26T16:13:54.659671Z",
     "start_time": "2024-02-26T16:13:54.652916Z"
    }
   },
   "execution_count": 14
  },
  {
   "cell_type": "code",
   "outputs": [],
   "source": [
    "data_iter = enumerate(binary_test_loader)\n",
    "batch_idx, (data, targets) = next(data_iter)\n",
    "ones = (targets==1).nonzero()\n",
    "x = data[ones[0]]\n",
    "\n",
    "factual = data[ones[17]].clone().detach()"
   ],
   "metadata": {
    "collapsed": false,
    "ExecuteTime": {
     "end_time": "2024-02-26T16:23:09.354673Z",
     "start_time": "2024-02-26T16:23:09.202910Z"
    }
   },
   "execution_count": 19
  },
  {
   "cell_type": "code",
   "outputs": [
    {
     "data": {
      "text/plain": "(1, 28, 28)"
     },
     "execution_count": 38,
     "metadata": {},
     "output_type": "execute_result"
    }
   ],
   "source": [
    "factual.squeeze(0).numpy().shape"
   ],
   "metadata": {
    "collapsed": false,
    "ExecuteTime": {
     "end_time": "2024-02-26T17:03:44.873649Z",
     "start_time": "2024-02-26T17:03:44.867341Z"
    }
   },
   "execution_count": 38
  },
  {
   "cell_type": "markdown",
   "source": [
    "## IntGrad"
   ],
   "metadata": {
    "collapsed": false
   }
  },
  {
   "cell_type": "code",
   "outputs": [
    {
     "data": {
      "text/plain": "<Figure size 640x480 with 2 Axes>",
      "image/png": "[encoded data removed]"
     },
     "metadata": {},
     "output_type": "display_data"
    }
   ],
   "source": [
    "from xailib.explainers.intgrad_explainer import IntgradImageExplainer\n",
    "\n",
    "# 1) Create the Explainer\n",
    "ig = IntgradImageExplainer(model)\n",
    "\n",
    "# 2) Fit the Explainer\n",
    "ig.fit()\n",
    "\n",
    "\n",
    "# 3) Select the image we want to give an explanation for\n",
    "image = factual.squeeze(0).numpy()\n",
    "\n",
    "# 4a) Preprocessing function: function that takes as input an image and return the correct format for the black box\n",
    "def preprocessing(image):\n",
    "    return torch.tensor(image/255).float()\n",
    "\n",
    "# 4b) Predict Function of our black box: It needs to take as input the output of preprocessing and return an array of probabilities of classes with shape (-1,num_classes)\n",
    "def predict(image):\n",
    "    return model(image.unsqueeze(0))\n",
    "\n",
    "# 5) Explain an Instance\n",
    "intgrad_pt_score = ig.explain(image,1, 'black', preprocessing, predict, model_type='pytorch').reshape(28,28)\n",
    "\n",
    "plt.imshow(intgrad_pt_score,cmap='coolwarm')\n",
    "plt.colorbar()\n",
    "plt.axis('off');"
   ],
   "metadata": {
    "collapsed": false,
    "ExecuteTime": {
     "end_time": "2024-02-26T17:09:20.365567Z",
     "start_time": "2024-02-26T17:09:20.221356Z"
    }
   },
   "execution_count": 53
  },
  {
   "cell_type": "markdown",
   "source": [
    "## GradCAM"
   ],
   "metadata": {
    "collapsed": false
   }
  },
  {
   "cell_type": "code",
   "outputs": [
    {
     "name": "stdout",
     "output_type": "stream",
     "text": [
      "Conv2d(1, 10, kernel_size=(5, 5), stride=(1, 1))\n"
     ]
    }
   ],
   "source": [
    "print(list(model.modules())[3])"
   ],
   "metadata": {
    "collapsed": false,
    "ExecuteTime": {
     "end_time": "2024-02-26T18:06:02.558208Z",
     "start_time": "2024-02-26T18:06:02.551934Z"
    }
   },
   "execution_count": 64
  },
  {
   "cell_type": "code",
   "outputs": [
    {
     "ename": "ModuleNotFoundError",
     "evalue": "No module named 'cv2'",
     "output_type": "error",
     "traceback": [
      "\u001B[0;31m---------------------------------------------------------------------------\u001B[0m",
      "\u001B[0;31mModuleNotFoundError\u001B[0m                       Traceback (most recent call last)",
      "\u001B[0;32m/var/folders/z7/gxr_p2dj2mjg29pcwf45qlq40000gn/T/ipykernel_42270/308497097.py\u001B[0m in \u001B[0;36m<module>\u001B[0;34m\u001B[0m\n\u001B[0;32m----> 1\u001B[0;31m \u001B[0;32mfrom\u001B[0m \u001B[0mxailib\u001B[0m\u001B[0;34m.\u001B[0m\u001B[0mexplainers\u001B[0m\u001B[0;34m.\u001B[0m\u001B[0mgradcam_explainer\u001B[0m \u001B[0;32mimport\u001B[0m \u001B[0mGradCAMPlusPlusImageExplainer\u001B[0m\u001B[0;34m\u001B[0m\u001B[0;34m\u001B[0m\u001B[0m\n\u001B[0m\u001B[1;32m      2\u001B[0m \u001B[0mimg\u001B[0m \u001B[0;34m=\u001B[0m \u001B[0mfactual\u001B[0m\u001B[0;34m.\u001B[0m\u001B[0msqueeze\u001B[0m\u001B[0;34m(\u001B[0m\u001B[0;36m0\u001B[0m\u001B[0;34m)\u001B[0m\u001B[0;34m.\u001B[0m\u001B[0mnumpy\u001B[0m\u001B[0;34m(\u001B[0m\u001B[0;34m)\u001B[0m\u001B[0;34m\u001B[0m\u001B[0;34m\u001B[0m\u001B[0m\n\u001B[1;32m      3\u001B[0m \u001B[0mexplainer\u001B[0m \u001B[0;34m=\u001B[0m \u001B[0mGradCAMImageExplainer\u001B[0m\u001B[0;34m(\u001B[0m\u001B[0mmodel\u001B[0m\u001B[0;34m)\u001B[0m\u001B[0;34m\u001B[0m\u001B[0;34m\u001B[0m\u001B[0m\n\u001B[1;32m      4\u001B[0m \u001B[0mexplainer\u001B[0m\u001B[0;34m.\u001B[0m\u001B[0mfit\u001B[0m\u001B[0;34m(\u001B[0m\u001B[0mlist\u001B[0m\u001B[0;34m(\u001B[0m\u001B[0mmodel\u001B[0m\u001B[0;34m.\u001B[0m\u001B[0mmodules\u001B[0m\u001B[0;34m(\u001B[0m\u001B[0;34m)\u001B[0m\u001B[0;34m[\u001B[0m\u001B[0;36m3\u001B[0m\u001B[0;34m]\u001B[0m\u001B[0;34m)\u001B[0m\u001B[0;34m)\u001B[0m\u001B[0;34m\u001B[0m\u001B[0;34m\u001B[0m\u001B[0m\n\u001B[1;32m      5\u001B[0m \u001B[0mattr\u001B[0m \u001B[0;34m=\u001B[0m \u001B[0mexplainer\u001B[0m\u001B[0;34m.\u001B[0m\u001B[0mexplain\u001B[0m\u001B[0;34m(\u001B[0m\u001B[0mtorch\u001B[0m\u001B[0;34m.\u001B[0m\u001B[0mTensor\u001B[0m\u001B[0;34m(\u001B[0m\u001B[0mimg\u001B[0m\u001B[0;34m)\u001B[0m\u001B[0;34m.\u001B[0m\u001B[0mreshape\u001B[0m\u001B[0;34m(\u001B[0m\u001B[0;34m-\u001B[0m\u001B[0;36m1\u001B[0m\u001B[0;34m,\u001B[0m\u001B[0;36m1\u001B[0m\u001B[0;34m,\u001B[0m\u001B[0;36m28\u001B[0m\u001B[0;34m,\u001B[0m\u001B[0;36m28\u001B[0m\u001B[0;34m)\u001B[0m\u001B[0;34m.\u001B[0m\u001B[0mfloat\u001B[0m\u001B[0;34m(\u001B[0m\u001B[0;34m)\u001B[0m\u001B[0;34m/\u001B[0m\u001B[0;36m255\u001B[0m\u001B[0;34m,\u001B[0m\u001B[0;36m1\u001B[0m\u001B[0;34m,\u001B[0m\u001B[0mmodel_type\u001B[0m\u001B[0;34m=\u001B[0m\u001B[0;34m'pytorch'\u001B[0m\u001B[0;34m)\u001B[0m\u001B[0;34m\u001B[0m\u001B[0;34m\u001B[0m\u001B[0m\n",
      "\u001B[0;32m~/Projects/xai_croco/XAI_course_2024-main/xailib/explainers/gradcam_explainer.py\u001B[0m in \u001B[0;36m<module>\u001B[0;34m\u001B[0m\n\u001B[1;32m      5\u001B[0m \u001B[0;32mimport\u001B[0m \u001B[0mtensorflow\u001B[0m \u001B[0;32mas\u001B[0m \u001B[0mtf\u001B[0m\u001B[0;34m\u001B[0m\u001B[0;34m\u001B[0m\u001B[0m\n\u001B[1;32m      6\u001B[0m \u001B[0;32mimport\u001B[0m \u001B[0mtorch\u001B[0m\u001B[0;34m\u001B[0m\u001B[0;34m\u001B[0m\u001B[0m\n\u001B[0;32m----> 7\u001B[0;31m \u001B[0;32mimport\u001B[0m \u001B[0mcv2\u001B[0m\u001B[0;34m\u001B[0m\u001B[0;34m\u001B[0m\u001B[0m\n\u001B[0m\u001B[1;32m      8\u001B[0m \u001B[0;32mimport\u001B[0m \u001B[0mttach\u001B[0m \u001B[0;32mas\u001B[0m \u001B[0mtta\u001B[0m\u001B[0;34m\u001B[0m\u001B[0;34m\u001B[0m\u001B[0m\n\u001B[1;32m      9\u001B[0m \u001B[0;34m\u001B[0m\u001B[0m\n",
      "\u001B[0;31mModuleNotFoundError\u001B[0m: No module named 'cv2'"
     ]
    }
   ],
   "source": [
    "from xailib.explainers.gradcam_explainer import GradCAMPlusPlusImageExplainer\n",
    "img = factual.squeeze(0).numpy()\n",
    "explainer = GradCAMImageExplainer(model)\n",
    "explainer.fit(list(model.modules()[3]))\n",
    "attr = explainer.explain(torch.Tensor(img).reshape(-1,1,28,28).float()/255,1,model_type='pytorch')\n",
    "gradcam_pt_score = attr[0,:]"
   ],
   "metadata": {
    "collapsed": false,
    "ExecuteTime": {
     "end_time": "2024-02-26T18:50:25.313754Z",
     "start_time": "2024-02-26T18:50:25.262836Z"
    }
   },
   "execution_count": 69
  },
  {
   "cell_type": "markdown",
   "source": [
    "## Abele"
   ],
   "metadata": {
    "collapsed": false
   }
  },
  {
   "cell_type": "code",
   "outputs": [
    {
     "ename": "ModuleNotFoundError",
     "evalue": "No module named 'skimage'",
     "output_type": "error",
     "traceback": [
      "\u001B[0;31m---------------------------------------------------------------------------\u001B[0m",
      "\u001B[0;31mModuleNotFoundError\u001B[0m                       Traceback (most recent call last)",
      "\u001B[0;32m/var/folders/z7/gxr_p2dj2mjg29pcwf45qlq40000gn/T/ipykernel_42270/2641652450.py\u001B[0m in \u001B[0;36m<module>\u001B[0;34m\u001B[0m\n\u001B[1;32m      1\u001B[0m \u001B[0;32mimport\u001B[0m \u001B[0mos\u001B[0m\u001B[0;34m\u001B[0m\u001B[0;34m\u001B[0m\u001B[0m\n\u001B[0;32m----> 2\u001B[0;31m \u001B[0;32mimport\u001B[0m \u001B[0mskimage\u001B[0m\u001B[0;34m\u001B[0m\u001B[0;34m\u001B[0m\u001B[0m\n\u001B[0m\u001B[1;32m      3\u001B[0m \u001B[0;32mfrom\u001B[0m \u001B[0mexternals\u001B[0m\u001B[0;34m.\u001B[0m\u001B[0mABELE\u001B[0m\u001B[0;34m.\u001B[0m\u001B[0mexperiments\u001B[0m\u001B[0;34m.\u001B[0m\u001B[0mexputil\u001B[0m \u001B[0;32mimport\u001B[0m \u001B[0mget_autoencoder\u001B[0m\u001B[0;34m\u001B[0m\u001B[0;34m\u001B[0m\u001B[0m\n\u001B[1;32m      4\u001B[0m \u001B[0;32mfrom\u001B[0m \u001B[0mexternals\u001B[0m\u001B[0;34m.\u001B[0m\u001B[0mABELE\u001B[0m\u001B[0;34m.\u001B[0m\u001B[0mexperiments\u001B[0m\u001B[0;34m.\u001B[0m\u001B[0mexputil\u001B[0m \u001B[0;32mimport\u001B[0m \u001B[0mget_dataset\u001B[0m\u001B[0;34m\u001B[0m\u001B[0;34m\u001B[0m\u001B[0m\n\u001B[1;32m      5\u001B[0m \u001B[0;32mimport\u001B[0m \u001B[0mwarnings\u001B[0m\u001B[0;34m\u001B[0m\u001B[0;34m\u001B[0m\u001B[0m\n",
      "\u001B[0;31mModuleNotFoundError\u001B[0m: No module named 'skimage'"
     ]
    }
   ],
   "source": [
    "import os\n",
    "import skimage\n",
    "from externals.ABELE.experiments.exputil import get_autoencoder\n",
    "from externals.ABELE.experiments.exputil import get_dataset\n",
    "import warnings\n",
    "warnings.filterwarnings('ignore')\n",
    "\n",
    "#disable eager execution in tensorflow 2.x for faster training time\n",
    "from tensorflow.python.framework.ops import disable_eager_execution\n",
    "disable_eager_execution()\n",
    "\n",
    "# The dataset to use for training\n",
    "# if you prefer to use yours load the data in two vector X_data and Y_data, set dataset variable to a custom name and custom_dataset to True\n",
    "dataset = 'mnist'\n",
    "custom_dataset = False\n",
    "if not custom_dataset:\n",
    "    X_train, Y_train, X_test, Y_test, use_rgb = get_dataset(dataset)\n",
    "\n",
    "# The type of autoencoder to train ['aae','vae']\n",
    "ae_name = 'aae'\n",
    "\n",
    "# This script will save the models weights in the folder ./path/models/abele/dataset/ae_name\n",
    "path = './'\n",
    "path_aemodels = path + 'models/abele/%s/%s/' % (dataset,ae_name)\n",
    "if not os.path.exists(path_aemodels):\n",
    "    os.makedirs(path_aemodels)\n",
    "\n",
    "# HYPER-PARAMETERS\n",
    "#define the epochs and the batch size for which the autoencoder will be trained\n",
    "epochs = 2000\n",
    "batch_size = 64\n",
    "#Print training summary every sample_interval step\n",
    "sample_interval = 50\n",
    "\n",
    "\"\"\"\n",
    " Get_autoencoder create the autoencoder class to train\n",
    " Arguments:\n",
    "    X: dataset to use to train the ae\n",
    "    ae_name: type of the autoencoder to train, only adversarial autoencoder (aae) and variational autoencoder (vae) are supported\n",
    "    path_aemodels: path where to save the weights\n",
    "    dataset: name of the dataset to use\n",
    "    OPTIONAL:\n",
    "    latent_dim: latent space dimension (only use if dataset is custom)\n",
    "    hidden_dim: hidden dimension of the autoencoders layers (ex: 1024 will create two layers of 1024 hidden units) (only use if dataset is custom)\n",
    "    num_filters: number of filter to use in the convolutional layers (only use if dataset is custom)\n",
    "\"\"\"\n",
    "ae = get_autoencoder(X_train, ae_name, path_aemodels, dataset)\n",
    "\n",
    "\"\"\" Fit method\n",
    " Arguments:\n",
    "    X: Dataset to use to train the ae\n",
    "    epochs: Epochs to train\n",
    "    batch_size\n",
    "    sample interval (see before)\n",
    "\"\"\"\n",
    "# ae.fit(X_train, epochs=epochs, batch_size=batch_size, sample_interval=sample_interval)\n",
    "# save the weights in the oath specified before\n",
    "# ae.save_model()\n",
    "# save also some sample images to test if the autoencoder is trained correctly\n",
    "# ae.sample_images(epochs)"
   ],
   "metadata": {
    "collapsed": false,
    "ExecuteTime": {
     "end_time": "2024-02-26T21:18:56.743617Z",
     "start_time": "2024-02-26T21:18:56.732154Z"
    }
   },
   "execution_count": 79
  },
  {
   "cell_type": "code",
   "outputs": [
    {
     "name": "stdout",
     "output_type": "stream",
     "text": [
      "['/Applications/PyCharm.app/Contents/plugins/python/helpers-pro/jupyter_debug', '/Applications/PyCharm.app/Contents/plugins/python/helpers/pydev', '/Users/cgiovannoni/Projects/xai_croco', '/Users/cgiovannoni/Projects/xai_croco', '/Users/cgiovannoni/miniconda3/envs/py37_xai_croco/lib/python37.zip', '/Users/cgiovannoni/miniconda3/envs/py37_xai_croco/lib/python3.7', '/Users/cgiovannoni/miniconda3/envs/py37_xai_croco/lib/python3.7/lib-dynload', '', '/Users/cgiovannoni/miniconda3/envs/py37_xai_croco/lib/python3.7/site-packages', '/Users/cgiovannoni/miniconda3/envs/py37_xai_croco/lib/python3.7/site-packages/IPython/extensions', '/Users/cgiovannoni/.ipython', 'XAI_course_2024-main', '/Users/cgiovannoni/Projects/xai_croco/XAI_course_2024-main']\n"
     ]
    }
   ],
   "source": [
    "print(sys.path)"
   ],
   "metadata": {
    "collapsed": false,
    "ExecuteTime": {
     "end_time": "2024-02-26T21:10:26.638156Z",
     "start_time": "2024-02-26T21:10:26.629824Z"
    }
   },
   "execution_count": 76
  },
  {
   "cell_type": "code",
   "outputs": [
    {
     "ename": "ModuleNotFoundError",
     "evalue": "No module named 'skimage'",
     "output_type": "error",
     "traceback": [
      "\u001B[0;31m---------------------------------------------------------------------------\u001B[0m",
      "\u001B[0;31mModuleNotFoundError\u001B[0m                       Traceback (most recent call last)",
      "\u001B[0;32m/var/folders/z7/gxr_p2dj2mjg29pcwf45qlq40000gn/T/ipykernel_42270/2599438258.py\u001B[0m in \u001B[0;36m<module>\u001B[0;34m\u001B[0m\n\u001B[1;32m      3\u001B[0m \u001B[0;32mimport\u001B[0m \u001B[0mtensorflow\u001B[0m \u001B[0;32mas\u001B[0m \u001B[0mtf\u001B[0m\u001B[0;34m\u001B[0m\u001B[0;34m\u001B[0m\u001B[0m\n\u001B[1;32m      4\u001B[0m \u001B[0;32mimport\u001B[0m \u001B[0mtime\u001B[0m\u001B[0;34m\u001B[0m\u001B[0;34m\u001B[0m\u001B[0m\n\u001B[0;32m----> 5\u001B[0;31m \u001B[0;32mfrom\u001B[0m \u001B[0mskimage\u001B[0m\u001B[0;34m.\u001B[0m\u001B[0mcolor\u001B[0m \u001B[0;32mimport\u001B[0m \u001B[0mgray2rgb\u001B[0m\u001B[0;34m,\u001B[0m \u001B[0mrgb2gray\u001B[0m\u001B[0;34m\u001B[0m\u001B[0;34m\u001B[0m\u001B[0m\n\u001B[0m\u001B[1;32m      6\u001B[0m \u001B[0;32mfrom\u001B[0m \u001B[0mskimage\u001B[0m \u001B[0;32mimport\u001B[0m \u001B[0mfeature\u001B[0m\u001B[0;34m,\u001B[0m \u001B[0mtransform\u001B[0m\u001B[0;34m\u001B[0m\u001B[0;34m\u001B[0m\u001B[0m\n\u001B[1;32m      7\u001B[0m \u001B[0;34m\u001B[0m\u001B[0m\n",
      "\u001B[0;31mModuleNotFoundError\u001B[0m: No module named 'skimage'"
     ]
    }
   ],
   "source": [
    "import numpy as np\n",
    "import matplotlib.pyplot as plt\n",
    "import tensorflow as tf\n",
    "import time\n",
    "from skimage.color import gray2rgb, rgb2gray\n",
    "from skimage import feature, transform\n",
    "\n",
    "from xailib.explainers.abele_explainer import ABELEImageExplainer\n",
    "from externals.ABELE.experiments.exputil import get_dataset\n",
    "from externals.ABELE.experiments.exputil import get_autoencoder\n",
    "\n",
    "from keras.src.saving import serialization_lib\n",
    "serialization_lib.enable_unsafe_deserialization()\n",
    "\n",
    "'''The above two lines added for the following error - ValueError: Requested the deserialization of a Lambda layer with a\n",
    "Python `lambda` inside it. This carries a potential risk of arbitrary code execution and thus it is disallowed by default.\n",
    "If you trust the source of the saved model, #you can pass `safe_mode=False` to the loading function in order\n",
    "to allow Lambda layer loading. '''\n",
    "\n",
    "import warnings\n",
    "warnings.filterwarnings('ignore')\n",
    "\n",
    "random_state = 0\n",
    "dataset = 'mnist'\n",
    "black_box = 'AB' #agnostic Black Box\n",
    "\n",
    "# load autoencoder and black box\n",
    "ae_name = 'aae'\n",
    "path = './'\n",
    "path_aemodels = path + 'models/abele/%s/%s/' % (dataset, ae_name)\n",
    "#bb = tf.keras.models.load_model(\"./models/cnn_simple_mnist_no_pickle\")\n",
    "bb = model\n",
    "\n",
    "# defining a functions for bb to return the class index value\n",
    "def bb_predict(image):\n",
    "    return np.argmax(model(torch.tensor(rgb2gray(image/255).reshape(-1,1,28,28)).float()).detach().numpy(),axis=1)\n",
    "#def bb_predict(X):\n",
    "#    X = X.astype(float)\n",
    "#    Y = bb.predict(rgb2gray(X).reshape(-1,28,28,1))\n",
    "#    return np.argmax(Y, axis=1)\n",
    "\n",
    "# load data\n",
    "X_train, Y_train, X_test, Y_test, _ = get_dataset(dataset)\n",
    "\n",
    "# load auto encoder\n",
    "ae = get_autoencoder(X_train, ae_name, path_aemodels, dataset)\n",
    "ae.load_model()\n",
    "\n",
    "\n",
    "# index Image 2 Explain\n",
    "i2e = 80\n",
    "img = factual.squeeze(0).numpy()\n",
    "# time\n",
    "start = time.time()\n",
    "\n",
    "# create explainer\n",
    "\"\"\"\n",
    "Arguments:\n",
    "    bb_predict: function which return the prediction of the blackbox in form index of the class\n",
    "    class_name: name of the class used when printing rules (class_name: class_value)\n",
    "    class_values: list of names of the classes (class_name: class_value)\n",
    "    neigh_type: select the nighbourhood type,\n",
    "                supportecd types:\n",
    "                'gnt' : genetic\n",
    "                'rnd' : random\n",
    "                'hrg' : hybrid-random-genetic\n",
    "                'gntp': genetic probabilistic\n",
    "                'hrgp': hybrid probabilistic\n",
    "    ocr: [0.1] other class values, ratio of other class from the one predicted in the neighbourhood\n",
    "    kernel: [None] Kernel to weights the point in the nieghbourhood\n",
    "    kernel_width : [None]\n",
    "    autoencoder: Autoencoder to generate the latent space points\n",
    "    use_rgb = [True] Set to True if the input images are rgb, False for grayscale\n",
    "    filter_crules: [None] if True Prototypes are checked by the black box to be the same class of the query image\n",
    "    random_state: set the seed of the random state\n",
    "    verbose: True if you want to print more informations\n",
    "    NEIGHBOURHOOD PARAMETERS: the following parameters are Neighbourhood specific and may not apply to all of the neighbourhood types\n",
    "        valid_thr: [0.5] threshold to change class in the autoencoder disciminator\n",
    "        alpha1: [0.5] weight of the feature similarity of the neighbourhood points\n",
    "        alpha2: [0.5] weight of the target similarity of the neighbourhood points\n",
    "        ngen: [100] number of generations of the genetic algorithm\n",
    "        mutpb: [0.2] The probability of mutating an individual in the genetic algorithm\n",
    "        cxpb: [0.5] The probability of mating two individuals in the genetic algorithm\n",
    "        tournsize: [3] number of tournaments in the genetic algorithm\n",
    "        hallooffame_ratio: [0.1] Fraction of exemplars to keep at every genetic generation\n",
    "\"\"\"\n",
    "config = {'bb_predict':bb_predict,\n",
    "          'class_name':'class',\n",
    "          'class_values':['%s' % i for i in range(len(np.unique(Y_test)))],\n",
    "          'neigh_type':'hrg',\n",
    "          'ocr':0.1, #other class ratio in the neighbourhood\n",
    "          'kernel_width':None,\n",
    "          'kernel':None,\n",
    "          'autoencoder':autoencoder,\n",
    "          'use_rgb':True,\n",
    "          'filter_crules':False,\n",
    "          'random_state':random_state,\n",
    "          'verbose':True,\n",
    "          'valid_thr':0.5,\n",
    "          'alpha1':0.5,\n",
    "          'alpha2':0.5,\n",
    "          'ngen':100,\n",
    "          'mutpb':0.2,\n",
    "          'cxpb':0.5,\n",
    "          'tournsize':3,\n",
    "          'halloffame_ratio':0.1}\n",
    "\n",
    "\n",
    "explainer = ABELEImageExplainer(bb)\n",
    "explainer.fit(config)\n",
    "\n",
    "#generate explanation\n",
    "\"\"\"\n",
    "generate an explanation for a given image\n",
    "Arguments:\n",
    "    img: the image to explain\n",
    "    num_samples: [1000] number of samples to generate with the neighbourhood algorithm\n",
    "    use_weights: [True] if weights the points using distance\n",
    "Return:\n",
    "Explanation object compose by several things\n",
    "    rstr: string describing the rule\n",
    "    cstr: string describing the counterfactual rule\n",
    "    bb_pred: black box prediction of the image\n",
    "    dt_pred: decisoon tree prediction\n",
    "    fidelity: fidelity between black box and the decision tree\n",
    "    limg: latent space representation of the image\n",
    "\"\"\"\n",
    "exp = explainer.explain(img, num_samples=300, use_weights=True)\n",
    "\n",
    "# time\n",
    "end = time.time()\n",
    "print('--------------------------')\n",
    "print('execution time: ',end - start,' sec')\n",
    "print('e = {\\n\\tr = %s\\n\\tc = %s    \\n}' % (exp.getRules(), exp.getCounterfactualRules()))\n",
    "print('--------------------------')\n",
    "print('bb prediction of the image: ',exp.exp.bb_pred,'dt prediction: ',exp.exp.dt_pred,'fidelity: ',exp.exp.fidelity)\n",
    "print('latent space representation: ',exp.exp.limg)"
   ],
   "metadata": {
    "collapsed": false,
    "ExecuteTime": {
     "end_time": "2024-02-26T20:29:05.342481Z",
     "start_time": "2024-02-26T20:29:05.328948Z"
    }
   },
   "execution_count": 73
  },
  {
   "cell_type": "code",
   "execution_count": 62,
   "metadata": {},
   "outputs": [],
   "source": [
    "#import custom implementation of Croco\n",
    "import gator\n",
    "from importlib import reload\n",
    "gator = reload(gator)"
   ]
  },
  {
   "cell_type": "code",
   "execution_count": 63,
   "metadata": {},
   "outputs": [],
   "source": [
    "data_iter = enumerate(binary_test_loader)\n",
    "batch_idx, (data, targets) = next(data_iter)\n",
    "ones = (targets==1).nonzero()\n",
    "x = data[ones[0]]"
   ]
  },
  {
   "cell_type": "code",
   "execution_count": 84,
   "metadata": {},
   "outputs": [],
   "source": [
    "factual = data[ones[17]].clone().detach()\n",
    "\n",
    "counterfactual, hist = gator.croco(\n",
    "                        model=model,\n",
    "                        autoencoder=None,\n",
    "                        input_data=factual,\n",
    "                        weights = {\"robustness\":0.5,\"validity\":1,\"proximity\":0.01}, #robustness, validity, proximity\n",
    "                        sigma2=0.2,\n",
    "                        max_iter = 1000,\n",
    "                        learning_rate=0.01,\n",
    "                        n_samples=500,\n",
    "                        device = \"cpu\"\n",
    "                        )\n",
    "\n",
    "latent_counterfactual, hist = gator.croco(\n",
    "                        model=model,\n",
    "                        autoencoder=autoencoder,\n",
    "                        input_data=factual,\n",
    "                        weights = {\"robustness\":0.5,\"validity\":1,\"proximity\":0.01}, #robustness, validity, proximity\n",
    "                        sigma2=0.2,\n",
    "                        max_iter = 1000,\n",
    "                        learning_rate=0.01,\n",
    "                        n_samples=500,\n",
    "                        device = \"cpu\"\n",
    "                        )"
   ]
  },
  {
   "cell_type": "code",
   "execution_count": 88,
   "metadata": {},
   "outputs": [
    {
     "data": {
      "image/png": "[encoded data removed]",
      "text/plain": [
       "<Figure size 640x480 with 3 Axes>"
      ]
     },
     "metadata": {},
     "output_type": "display_data"
    }
   ],
   "source": [
    "mosaic = \"\"\"\n",
    "ABC\n",
    "\"\"\"\n",
    "fig, axs = plt.subplot_mosaic(mosaic)\n",
    "for img,ax,title in zip([factual,counterfactual,latent_counterfactual],[\"A\",\"B\",\"C\"],[\"Factual\",\"Counterfactual\",\"Latent Counterfactual\"]):\n",
    "    axs[ax].imshow(img.detach().view(28, 28), cmap='gray', interpolation='none')\n",
    "    predicted_class = torch.argmax(model(img.detach()), dim=1).item()\n",
    "    axs[ax].set_xlabel(f\"Predicted Class: {predicted_class}\",fontsize=7)\n",
    "    axs[ax].set_title(title)\n",
    "    axs[ax].set_xticks([])\n",
    "    axs[ax].set_yticks([])\n",
    "plt.show()"
   ]
  },
  {
   "cell_type": "markdown",
   "metadata": {},
   "source": [
    "# Measuring robustness"
   ]
  },
  {
   "cell_type": "code",
   "execution_count": 94,
   "metadata": {},
   "outputs": [],
   "source": [
    "# GIVEN A COUNTERFACTUAL EVALUATE ITS ROBUSTNESS\n",
    "\n",
    "latent_robustness,std_robustness = [],[]\n",
    "for radius in np.linspace(0.01,0.3,100):\n",
    "    #robustness of standard counterfactual\n",
    "    std_recourse = gator.recourse_invalidation(\n",
    "        model, #classification model\n",
    "        factual, # factual data. assumed traget is 1\n",
    "        counterfactual.detach(), # counter factual to evaluate robustness\n",
    "        sigma2=radius, # neighbourbhood radius\n",
    "        device=\"cpu\",\n",
    "        n_samples=500\n",
    "    )\n",
    "    std_robustness.append(std_recourse.item())\n",
    "    \n",
    "    \n",
    "    #robustness of latent counterfactual\n",
    "    latent_recourse = gator.recourse_invalidation(\n",
    "        model, #classification model\n",
    "        factual, # factual data. assumed traget is 1\n",
    "        latent_counterfactual.detach(), # counter factual to evaluate robustness\n",
    "        sigma2=radius, # neighbourbhood radius\n",
    "        device=\"cpu\",\n",
    "        n_samples=500\n",
    "    )\n",
    "    latent_robustness.append(latent_recourse.item())"
   ]
  },
  {
   "cell_type": "code",
   "execution_count": 95,
   "metadata": {},
   "outputs": [
    {
     "data": {
      "image/png": "[encoded data removed]",
      "text/plain": [
       "<Figure size 640x480 with 1 Axes>"
      ]
     },
     "metadata": {},
     "output_type": "display_data"
    }
   ],
   "source": [
    "plt.plot(np.linspace(0.01,0.3,100),std_robustness,label=\"Standard\")\n",
    "plt.plot(np.linspace(0.01,0.3,100),latent_robustness,label=\"Latent\")\n",
    "plt.ylabel(\"Recourse Invariance Rate \\n lower is better \")\n",
    "plt.xlabel(\"Neighbourhood Radius\")\n",
    "plt.legend()\n",
    "plt.show()"
   ]
  },
  {
   "cell_type": "code",
   "execution_count": null,
   "metadata": {},
   "outputs": [],
   "source": []
  }
 ],
 "metadata": {
  "kernelspec": {
   "display_name": "Python 3",
   "language": "python",
   "name": "python3"
  },
  "language_info": {
   "codemirror_mode": {
    "name": "ipython",
    "version": 3
   },
   "file_extension": ".py",
   "mimetype": "text/x-python",
   "name": "python",
   "nbconvert_exporter": "python",
   "pygments_lexer": "ipython3",
   "version": "3.8.5"
  }
 },
 "nbformat": 4,
 "nbformat_minor": 4
}
